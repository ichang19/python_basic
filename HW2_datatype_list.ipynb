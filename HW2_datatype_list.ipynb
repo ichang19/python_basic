{
 "cells": [
  {
   "cell_type": "code",
   "execution_count": 4,
   "id": "087537ea",
   "metadata": {},
   "outputs": [
    {
     "data": {
      "text/plain": [
       "3.141592653589793"
      ]
     },
     "execution_count": 4,
     "metadata": {},
     "output_type": "execute_result"
    }
   ],
   "source": [
    "import math\n",
    "pi = math.pi"
   ]
  },
  {
   "cell_type": "markdown",
   "id": "c060f619",
   "metadata": {},
   "source": [
    "**Q1. String formatting** \n",
    "\n",
    "반지름 5가 주어졌을 때, 원의 넓이는 5x5xpi입니다.\n",
    "\n",
    "'원의 넓이는 78.53981633974483 입니다.' 라는 string을 세 가지 formatting 방법으로 출력해보세요.\n",
    "\n",
    "`HINT! pi는 3.1415.. 를 입력할 필요 없이 위의 cell에서 정의한 variable \"pi\"를 사용하면 됩니다.`"
   ]
  },
  {
   "cell_type": "code",
   "execution_count": 13,
   "id": "928941d5-45ff-4a30-ba04-fd329dcc4a43",
   "metadata": {},
   "outputs": [
    {
     "name": "stdout",
     "output_type": "stream",
     "text": [
      "원의 넓이는 78.53981633974483 입니다.\n"
     ]
    }
   ],
   "source": [
    "import math\n",
    "pi = math.pi\n",
    "r = 5\n",
    "A = r**2*pi\n",
    "print('원의 넓이는 {0} 입니다.'.format(A))"
   ]
  },
  {
   "cell_type": "code",
   "execution_count": 6,
   "id": "917147f9",
   "metadata": {},
   "outputs": [
    {
     "name": "stdout",
     "output_type": "stream",
     "text": [
      "원의 넓이는 78.53981633974483 입니다.\n"
     ]
    }
   ],
   "source": [
    "import math\n",
    "pi = math.pi\n",
    "r = 5\n",
    "A = r**2*pi\n",
    "print(f'원의 넓이는 {A} 입니다.')"
   ]
  },
  {
   "cell_type": "code",
   "execution_count": 11,
   "id": "e86e2a58-5462-4be1-bd47-5329df87105e",
   "metadata": {},
   "outputs": [
    {
     "name": "stdout",
     "output_type": "stream",
     "text": [
      "원의 넓이는 78.53981633974483 입니다.\n"
     ]
    }
   ],
   "source": [
    "import math\n",
    "pi = math.pi\n",
    "r = 5\n",
    "A = r**2*pi\n",
    "print('원의 넓이는 %s 입니다.' % A)"
   ]
  },
  {
   "cell_type": "markdown",
   "id": "85c9dab3",
   "metadata": {},
   "source": [
    "**Q2. List Indexing/Slicing**\n",
    "\n",
    "price라는 variable에는 날짜와 과일의 가격 element들이 있는 list가 저장되어 있습니다.\n",
    "\n",
    "날짜 정보를 제외하고 가격 정보만을 출력해보세요."
   ]
  },
  {
   "cell_type": "code",
   "execution_count": 28,
   "id": "ef846a97",
   "metadata": {},
   "outputs": [
    {
     "data": {
      "text/plain": [
       "[5000, 3500, 4000]"
      ]
     },
     "execution_count": 28,
     "metadata": {},
     "output_type": "execute_result"
    }
   ],
   "source": [
    "price = ['20231010', 5000, 3500, 4000]\n",
    "price[1:4]"
   ]
  },
  {
   "cell_type": "markdown",
   "id": "63bd431e",
   "metadata": {},
   "source": [
    "**Q3.List 연산**\n",
    "\n",
    "movie_rank라는 variable에는 에는 영화 제목 element들이 있는 list가 저장되어있습니다.\n",
    "\n",
    "movie_rank에 'Batman'이라는 새로운 element를 추가해보세요."
   ]
  },
  {
   "cell_type": "code",
   "execution_count": 27,
   "id": "d0d2df4f",
   "metadata": {},
   "outputs": [
    {
     "data": {
      "text/plain": [
       "['Barbie', 'Oppenheimer', 'Batman']"
      ]
     },
     "execution_count": 27,
     "metadata": {},
     "output_type": "execute_result"
    }
   ],
   "source": [
    "movie_rank = ['Barbie', 'Oppenheimer']\n",
    "movie_rank.append('Batman')\n",
    "movie_rank"
   ]
  },
  {
   "cell_type": "markdown",
   "id": "e3b34817",
   "metadata": {},
   "source": [
    "**Q4. List 연산**\n",
    "\n",
    "animal_list와 num_list를 이용해 \n",
    "\n",
    "`['dog', 'horse', 'mammoth', 1, 2, 3]` 와 `['dog', 'horse', 'mammoth', [1, 2, 3]]`를 각각 만들어 화면에 출력해보세요."
   ]
  },
  {
   "cell_type": "code",
   "execution_count": 33,
   "id": "ef2b4414",
   "metadata": {},
   "outputs": [
    {
     "data": {
      "text/plain": [
       "['dog', 'horse', 'mammoth', 1, 2, 3]"
      ]
     },
     "execution_count": 33,
     "metadata": {},
     "output_type": "execute_result"
    }
   ],
   "source": [
    "animal_list = ['dog', 'horse', 'mammoth']\n",
    "num_list = [1, 2, 3]\n",
    "animal_list + num_list"
   ]
  },
  {
   "cell_type": "code",
   "execution_count": 34,
   "id": "f554ea39",
   "metadata": {},
   "outputs": [
    {
     "data": {
      "text/plain": [
       "['dog', 'horse', 'mammoth', [1, 2, 3]]"
      ]
     },
     "execution_count": 34,
     "metadata": {},
     "output_type": "execute_result"
    }
   ],
   "source": [
    "animal_list = ['dog', 'horse', 'mammoth']\n",
    "animal_list + [num_list]"
   ]
  }
 ],
 "metadata": {
  "kernelspec": {
   "display_name": "Python 3 (ipykernel)",
   "language": "python",
   "name": "python3"
  },
  "language_info": {
   "codemirror_mode": {
    "name": "ipython",
    "version": 3
   },
   "file_extension": ".py",
   "mimetype": "text/x-python",
   "name": "python",
   "nbconvert_exporter": "python",
   "pygments_lexer": "ipython3",
   "version": "3.11.5"
  }
 },
 "nbformat": 4,
 "nbformat_minor": 5
}
