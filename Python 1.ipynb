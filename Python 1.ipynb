{
 "cells": [
  {
   "cell_type": "markdown",
   "id": "b095488d-62a6-4926-80ed-0550ec1b311a",
   "metadata": {},
   "source": [
    "# Number (int & float)"
   ]
  },
  {
   "cell_type": "code",
   "execution_count": 3,
   "id": "e353c7a6-d97d-4f5d-8db8-88c8b62ef372",
   "metadata": {},
   "outputs": [
    {
     "data": {
      "text/plain": [
       "7"
      ]
     },
     "execution_count": 3,
     "metadata": {},
     "output_type": "execute_result"
    }
   ],
   "source": [
    "3+4"
   ]
  },
  {
   "cell_type": "code",
   "execution_count": 4,
   "id": "760c023c-1d48-4a22-9824-0660c4f62b03",
   "metadata": {},
   "outputs": [
    {
     "data": {
      "text/plain": [
       "int"
      ]
     },
     "execution_count": 4,
     "metadata": {},
     "output_type": "execute_result"
    }
   ],
   "source": [
    "type(3)"
   ]
  },
  {
   "cell_type": "code",
   "execution_count": 5,
   "id": "a0cdbb17-a773-44e6-bd8f-e7dec9bd30e3",
   "metadata": {},
   "outputs": [
    {
     "data": {
      "text/plain": [
       "float"
      ]
     },
     "execution_count": 5,
     "metadata": {},
     "output_type": "execute_result"
    }
   ],
   "source": [
    "type(0.5)"
   ]
  },
  {
   "cell_type": "code",
   "execution_count": 6,
   "id": "fc5b909a-7605-4f52-8e6a-9a99e85fbc47",
   "metadata": {},
   "outputs": [
    {
     "data": {
      "text/plain": [
       "12"
      ]
     },
     "execution_count": 6,
     "metadata": {},
     "output_type": "execute_result"
    }
   ],
   "source": [
    "3*4"
   ]
  },
  {
   "cell_type": "code",
   "execution_count": 7,
   "id": "14d80126-16be-406e-bda7-e45956f883d7",
   "metadata": {},
   "outputs": [
    {
     "data": {
      "text/plain": [
       "25"
      ]
     },
     "execution_count": 7,
     "metadata": {},
     "output_type": "execute_result"
    }
   ],
   "source": [
    "5**2"
   ]
  },
  {
   "cell_type": "code",
   "execution_count": 8,
   "id": "9dcc72ce-cfe0-4cd2-98f4-a4a79069873b",
   "metadata": {},
   "outputs": [
    {
     "data": {
      "text/plain": [
       "1.8"
      ]
     },
     "execution_count": 8,
     "metadata": {},
     "output_type": "execute_result"
    }
   ],
   "source": [
    "9/5"
   ]
  },
  {
   "cell_type": "code",
   "execution_count": 9,
   "id": "fcf4a0b6-ab3f-4fd1-86f8-6908b7b1db21",
   "metadata": {},
   "outputs": [
    {
     "data": {
      "text/plain": [
       "1"
      ]
     },
     "execution_count": 9,
     "metadata": {},
     "output_type": "execute_result"
    }
   ],
   "source": [
    "9//5 # quotient"
   ]
  },
  {
   "cell_type": "code",
   "execution_count": 10,
   "id": "ab3bce32-8d37-4d25-ae72-b54403407ad4",
   "metadata": {},
   "outputs": [
    {
     "data": {
      "text/plain": [
       "4"
      ]
     },
     "execution_count": 10,
     "metadata": {},
     "output_type": "execute_result"
    }
   ],
   "source": [
    "9%5 # 나머지"
   ]
  },
  {
   "cell_type": "code",
   "execution_count": 11,
   "id": "22940eec-009d-440d-8e79-0a440a7a95ad",
   "metadata": {},
   "outputs": [
    {
     "data": {
      "text/plain": [
       "1"
      ]
     },
     "execution_count": 11,
     "metadata": {},
     "output_type": "execute_result"
    }
   ],
   "source": [
    "int(9/5) # 정수 부분만"
   ]
  },
  {
   "cell_type": "code",
   "execution_count": 12,
   "id": "058f0c6d-3fce-4a15-b6bf-c21ea47ce000",
   "metadata": {},
   "outputs": [
    {
     "data": {
      "text/plain": [
       "1.0"
      ]
     },
     "execution_count": 12,
     "metadata": {},
     "output_type": "execute_result"
    }
   ],
   "source": [
    "float(1) # 뒤에 소수점 붙음"
   ]
  },
  {
   "cell_type": "markdown",
   "id": "02171cf2-1917-41f1-a873-4b51bcf29c9a",
   "metadata": {},
   "source": [
    "# String"
   ]
  },
  {
   "cell_type": "code",
   "execution_count": 15,
   "id": "46b5f97f-6e08-4dd4-ade0-fd8c253aa9fc",
   "metadata": {},
   "outputs": [
    {
     "name": "stdout",
     "output_type": "stream",
     "text": [
      "<class 'str'>\n"
     ]
    }
   ],
   "source": [
    "print(type((\"2\")))"
   ]
  },
  {
   "cell_type": "code",
   "execution_count": 16,
   "id": "f39ad62e-d94f-4477-95ca-e5e5213ed072",
   "metadata": {},
   "outputs": [
    {
     "name": "stdout",
     "output_type": "stream",
     "text": [
      "Python\n"
     ]
    }
   ],
   "source": [
    "print(\"Python\") # 따옴표끼리 matching"
   ]
  },
  {
   "cell_type": "code",
   "execution_count": 18,
   "id": "cab3f167-65e7-47e3-9c22-143742214a1a",
   "metadata": {},
   "outputs": [],
   "source": [
    "a = \"Python\""
   ]
  },
  {
   "cell_type": "code",
   "execution_count": 19,
   "id": "79174760-28c9-425d-ae50-736cfc1cdbdc",
   "metadata": {},
   "outputs": [
    {
     "data": {
      "text/plain": [
       "'Python'"
      ]
     },
     "execution_count": 19,
     "metadata": {},
     "output_type": "execute_result"
    }
   ],
   "source": [
    "a"
   ]
  },
  {
   "cell_type": "code",
   "execution_count": 21,
   "id": "fba24aed-985f-488a-aee8-14c3208ab9e4",
   "metadata": {},
   "outputs": [
    {
     "name": "stdout",
     "output_type": "stream",
     "text": [
      "Life is too short\n",
      "You need Python\n"
     ]
    }
   ],
   "source": [
    "Python = \"Life is too short\\nYou need Python\"\n",
    "print(Python)"
   ]
  },
  {
   "cell_type": "markdown",
   "id": "bfffb16c-6cfe-4037-99de-c65ab82135c3",
   "metadata": {},
   "source": [
    "# Calculation"
   ]
  },
  {
   "cell_type": "code",
   "execution_count": 22,
   "id": "eac9622d-70f4-4d0c-9ec4-5f723babf6cf",
   "metadata": {},
   "outputs": [
    {
     "data": {
      "text/plain": [
       "'I Phone'"
      ]
     },
     "execution_count": 22,
     "metadata": {},
     "output_type": "execute_result"
    }
   ],
   "source": [
    "\"I\" + \" Phone\""
   ]
  },
  {
   "cell_type": "markdown",
   "id": "a27c4fcf-936a-4006-8944-faa8b9a56002",
   "metadata": {},
   "source": [
    "String 끼리 뺄셈은 안됨 add만 가능"
   ]
  },
  {
   "cell_type": "code",
   "execution_count": 23,
   "id": "bbbb2e1c-aa25-4ec7-ac9d-772da70fcb3c",
   "metadata": {},
   "outputs": [
    {
     "data": {
      "text/plain": [
       "'python python python python python '"
      ]
     },
     "execution_count": 23,
     "metadata": {},
     "output_type": "execute_result"
    }
   ],
   "source": [
    "a = \"python \"\n",
    "a*5"
   ]
  },
  {
   "cell_type": "markdown",
   "id": "425aa7c6-6be1-4489-90e4-ed2bdbd2f37e",
   "metadata": {},
   "source": [
    "String * int 가능, String * String 불가능, String 나누기 불가능"
   ]
  },
  {
   "cell_type": "markdown",
   "id": "92e17ace-dee1-40f0-b583-22b997c8ac1e",
   "metadata": {},
   "source": [
    "# Indexing"
   ]
  },
  {
   "cell_type": "code",
   "execution_count": 24,
   "id": "58af6cde-3926-4ded-a2f1-d813478b97c0",
   "metadata": {},
   "outputs": [
    {
     "data": {
      "text/plain": [
       "5"
      ]
     },
     "execution_count": 24,
     "metadata": {},
     "output_type": "execute_result"
    }
   ],
   "source": [
    "len('apple') # 글자 수"
   ]
  },
  {
   "cell_type": "code",
   "execution_count": 25,
   "id": "e089c361-ef95-47f3-a232-c5ff19d6c1ae",
   "metadata": {},
   "outputs": [
    {
     "data": {
      "text/plain": [
       "'apple'"
      ]
     },
     "execution_count": 25,
     "metadata": {},
     "output_type": "execute_result"
    }
   ],
   "source": [
    "a = 'apple'\n",
    "a"
   ]
  },
  {
   "cell_type": "code",
   "execution_count": 26,
   "id": "9814734e-81ac-4857-a3db-9d6b80a3ff63",
   "metadata": {},
   "outputs": [
    {
     "data": {
      "text/plain": [
       "'a'"
      ]
     },
     "execution_count": 26,
     "metadata": {},
     "output_type": "execute_result"
    }
   ],
   "source": [
    "a[0] # a에 assign 된 string 에서 0번째 글자 return, python은 0부터 셈"
   ]
  },
  {
   "cell_type": "code",
   "execution_count": 27,
   "id": "401f912c-4bec-40e3-bf13-d0144a90c599",
   "metadata": {},
   "outputs": [
    {
     "data": {
      "text/plain": [
       "'e'"
      ]
     },
     "execution_count": 27,
     "metadata": {},
     "output_type": "execute_result"
    }
   ],
   "source": [
    "a[-1] # -는 뒤에서부터 센 숫자임, -1이 첫번째"
   ]
  },
  {
   "cell_type": "markdown",
   "id": "1e02be32-2b1d-4f81-a9d8-2c9bbf1c9807",
   "metadata": {},
   "source": [
    "# Slicing"
   ]
  },
  {
   "cell_type": "code",
   "execution_count": 28,
   "id": "b9bfeb7b-32fb-4f46-884d-b177b6573a3c",
   "metadata": {},
   "outputs": [
    {
     "data": {
      "text/plain": [
       "'Life'"
      ]
     },
     "execution_count": 28,
     "metadata": {},
     "output_type": "execute_result"
    }
   ],
   "source": [
    "python = \"Life is too short. You need Python.\"\n",
    "python[0] + python[1] + python[2] + python[3]"
   ]
  },
  {
   "cell_type": "code",
   "execution_count": 29,
   "id": "80aece97-516e-4062-8813-811c54c3ed12",
   "metadata": {},
   "outputs": [
    {
     "data": {
      "text/plain": [
       "'Life'"
      ]
     },
     "execution_count": 29,
     "metadata": {},
     "output_type": "execute_result"
    }
   ],
   "source": [
    "python[0:4] # -> [a:b] a 이상, b미만"
   ]
  },
  {
   "cell_type": "code",
   "execution_count": 30,
   "id": "19f1b285-acf9-4fcc-889a-97039cff2d0f",
   "metadata": {},
   "outputs": [
    {
     "data": {
      "text/plain": [
       "'Life is too short. You need Python.'"
      ]
     },
     "execution_count": 30,
     "metadata": {},
     "output_type": "execute_result"
    }
   ],
   "source": [
    "python[:] # 전체"
   ]
  },
  {
   "cell_type": "code",
   "execution_count": 31,
   "id": "31a6aaf9-a116-4fe6-8ed0-685b886101ae",
   "metadata": {},
   "outputs": [
    {
     "data": {
      "text/plain": [
       "'Life'"
      ]
     },
     "execution_count": 31,
     "metadata": {},
     "output_type": "execute_result"
    }
   ],
   "source": [
    "python[:4] # 숫자가 없어도 됨, 0 생략"
   ]
  },
  {
   "cell_type": "markdown",
   "id": "ace4f4a2-ce55-447f-b916-ca0d9da135f9",
   "metadata": {},
   "source": [
    "# String is Immutable"
   ]
  },
  {
   "cell_type": "code",
   "execution_count": null,
   "id": "e6bf8910-016d-4636-b160-63fef0f9dfe3",
   "metadata": {},
   "outputs": [],
   "source": [
    "# string 은 바꿀 수 없음 (안에가 잘못된 경우), 새로 만드는게 낳음"
   ]
  },
  {
   "cell_type": "markdown",
   "id": "a1c398d0-2f05-496b-ba28-3f2e7e7e1207",
   "metadata": {},
   "source": [
    "# Other Functions (Acc its methods but for now just think of it as functions)"
   ]
  },
  {
   "cell_type": "code",
   "execution_count": 32,
   "id": "1a8975dd-d3ec-459c-a85c-76d65ae285c5",
   "metadata": {},
   "outputs": [
    {
     "data": {
      "text/plain": [
       "5"
      ]
     },
     "execution_count": 32,
     "metadata": {},
     "output_type": "execute_result"
    }
   ],
   "source": [
    "python.count('o') # count, 세기"
   ]
  },
  {
   "cell_type": "code",
   "execution_count": 33,
   "id": "9e4647fe-a41d-4d07-9ed4-f859d2727cf3",
   "metadata": {},
   "outputs": [
    {
     "data": {
      "text/plain": [
       "'S/F/S'"
      ]
     },
     "execution_count": 33,
     "metadata": {},
     "output_type": "execute_result"
    }
   ],
   "source": [
    "\"/\".join('SFS') # 중간에 껴넣기"
   ]
  },
  {
   "cell_type": "code",
   "execution_count": 34,
   "id": "f198fd0d-56b3-4fa9-8333-2489c8e436fd",
   "metadata": {},
   "outputs": [
    {
     "data": {
      "text/plain": [
       "'a...b...c...d'"
      ]
     },
     "execution_count": 34,
     "metadata": {},
     "output_type": "execute_result"
    }
   ],
   "source": [
    "\"...\".join('abcd')"
   ]
  },
  {
   "cell_type": "code",
   "execution_count": 35,
   "id": "8e312ff3-4651-4ec6-86c0-e85b70610aa8",
   "metadata": {},
   "outputs": [
    {
     "name": "stdout",
     "output_type": "stream",
     "text": [
      "S\n",
      "F\n",
      "S\n"
     ]
    }
   ],
   "source": [
    "print(\"\\n\".join('SFS'))"
   ]
  },
  {
   "cell_type": "code",
   "execution_count": 37,
   "id": "af1e4fa7-ae5b-4c1d-bd36-3833993ecd1e",
   "metadata": {},
   "outputs": [
    {
     "data": {
      "text/plain": [
       "'HI'"
      ]
     },
     "execution_count": 37,
     "metadata": {},
     "output_type": "execute_result"
    }
   ],
   "source": [
    "a = 'hi'\n",
    "a.upper ()"
   ]
  },
  {
   "cell_type": "code",
   "execution_count": 40,
   "id": "e7dd1b6f-d35d-4b33-b94d-37ee43bc50d9",
   "metadata": {},
   "outputs": [
    {
     "data": {
      "text/plain": [
       "'hi'"
      ]
     },
     "execution_count": 40,
     "metadata": {},
     "output_type": "execute_result"
    }
   ],
   "source": [
    "b = 'HI'\n",
    "b.lower ()"
   ]
  },
  {
   "cell_type": "code",
   "execution_count": 41,
   "id": "4cca7269-e371-40f6-a48e-ef67ba90abff",
   "metadata": {},
   "outputs": [
    {
     "data": {
      "text/plain": [
       "'Life Is Too Short. You Need Python.'"
      ]
     },
     "execution_count": 41,
     "metadata": {},
     "output_type": "execute_result"
    }
   ],
   "source": [
    "c = 'Life is too short. You need Python.'\n",
    "c.title ()"
   ]
  },
  {
   "cell_type": "code",
   "execution_count": 43,
   "id": "54f524c4-ed8f-4227-b85f-27fc4d12c213",
   "metadata": {},
   "outputs": [
    {
     "data": {
      "text/plain": [
       "'Life is too short.'"
      ]
     },
     "execution_count": 43,
     "metadata": {},
     "output_type": "execute_result"
    }
   ],
   "source": [
    "d = 'life is too short.'\n",
    "d.capitalize ()"
   ]
  },
  {
   "cell_type": "code",
   "execution_count": 44,
   "id": "a64e4588-2b04-4612-9d2e-c6c79c812fab",
   "metadata": {},
   "outputs": [
    {
     "data": {
      "text/plain": [
       "'Python'"
      ]
     },
     "execution_count": 44,
     "metadata": {},
     "output_type": "execute_result"
    }
   ],
   "source": [
    "\"Pithon\".replace('i','y') # String 원소변경 가능 함수"
   ]
  },
  {
   "cell_type": "markdown",
   "id": "bbe71712-6c31-4adf-a39d-6d298ccdc300",
   "metadata": {},
   "source": [
    "# Quiz"
   ]
  },
  {
   "cell_type": "code",
   "execution_count": 46,
   "id": "f1767c57-f0df-42fd-a11a-b702a11b01e3",
   "metadata": {},
   "outputs": [
    {
     "data": {
      "text/plain": [
       "'love'"
      ]
     },
     "execution_count": 46,
     "metadata": {},
     "output_type": "execute_result"
    }
   ],
   "source": [
    "a = 'I love dog'\n",
    "a[2:6]"
   ]
  },
  {
   "cell_type": "code",
   "execution_count": 47,
   "id": "6b0bec6c-aeda-4b20-97d4-59715e34dcf9",
   "metadata": {},
   "outputs": [
    {
     "data": {
      "text/plain": [
       "'Love'"
      ]
     },
     "execution_count": 47,
     "metadata": {},
     "output_type": "execute_result"
    }
   ],
   "source": [
    "a[2:6].capitalize ()"
   ]
  },
  {
   "cell_type": "code",
   "execution_count": 48,
   "id": "b2288b19-7d14-48ed-bf95-1f767a9931eb",
   "metadata": {},
   "outputs": [
    {
     "data": {
      "text/plain": [
       "'LOVE'"
      ]
     },
     "execution_count": 48,
     "metadata": {},
     "output_type": "execute_result"
    }
   ],
   "source": [
    "a[2:6].upper ()"
   ]
  },
  {
   "cell_type": "markdown",
   "id": "bbaef7de-7a91-49f0-8abf-1801bb66f5f0",
   "metadata": {},
   "source": [
    "# 공백 지우기"
   ]
  },
  {
   "cell_type": "code",
   "execution_count": 51,
   "id": "3ffc76b9-6314-470d-8bcc-866ee31f9445",
   "metadata": {},
   "outputs": [
    {
     "name": "stdout",
     "output_type": "stream",
     "text": [
      "                      SFS\n"
     ]
    }
   ],
   "source": [
    "a = '                      SFS'\n",
    "print(a)"
   ]
  },
  {
   "cell_type": "code",
   "execution_count": 52,
   "id": "6be62f08-4163-420a-b62d-7080d72ed596",
   "metadata": {},
   "outputs": [
    {
     "name": "stdout",
     "output_type": "stream",
     "text": [
      "SFS\n"
     ]
    }
   ],
   "source": [
    "print(a.lstrip()) #왼쪽이나 오른쪽 공백 지움"
   ]
  },
  {
   "cell_type": "code",
   "execution_count": 56,
   "id": "4cb44221-1ded-40a6-8280-894b958b740a",
   "metadata": {},
   "outputs": [
    {
     "name": "stdout",
     "output_type": "stream",
     "text": [
      "SFS\n"
     ]
    }
   ],
   "source": [
    "b = 'SFS                  '\n",
    "print(b.rstrip())"
   ]
  },
  {
   "cell_type": "code",
   "execution_count": 57,
   "id": "32662351-19ad-4c50-af64-14e92f0fecc6",
   "metadata": {},
   "outputs": [
    {
     "name": "stdout",
     "output_type": "stream",
     "text": [
      "SFS\n"
     ]
    }
   ],
   "source": [
    "c = '         SFS        '\n",
    "print(c.strip())"
   ]
  },
  {
   "cell_type": "markdown",
   "id": "69b417c4-67bd-4f98-81e0-b2b480ec8fe8",
   "metadata": {},
   "source": [
    "# String formatting"
   ]
  },
  {
   "cell_type": "code",
   "execution_count": 2,
   "id": "5391411f-82ca-426e-9b15-dea213c96768",
   "metadata": {},
   "outputs": [
    {
     "name": "stdout",
     "output_type": "stream",
     "text": [
      "apple banana\n"
     ]
    }
   ],
   "source": [
    "print('apple', 'banana')"
   ]
  },
  {
   "cell_type": "code",
   "execution_count": 61,
   "id": "d4e318dc-a78d-4aeb-8bf7-a67a35e2bb42",
   "metadata": {},
   "outputs": [
    {
     "name": "stdout",
     "output_type": "stream",
     "text": [
      "temperature is 15\n"
     ]
    }
   ],
   "source": [
    "a = 15\n",
    "print('temperature is %d' % a) # %d는 이자리에 int가 올거라는 것을 보여줌, 그리고 여기 올 int는 a에 assign 된 data이다"
   ]
  },
  {
   "cell_type": "markdown",
   "id": "e8f69226-ae9d-4f15-8533-bce92c604ca5",
   "metadata": {},
   "source": [
    "- %d = int\n",
    "- %s = str\n",
    "- %f = float"
   ]
  },
  {
   "cell_type": "code",
   "execution_count": 62,
   "id": "6df348bf-39f0-4a74-a305-51f035859c1a",
   "metadata": {},
   "outputs": [
    {
     "name": "stdout",
     "output_type": "stream",
     "text": [
      "error rate if 0.300000%\n"
     ]
    }
   ],
   "source": [
    "print('error rate if %f%%' % 0.3) # %%를 %라고 인식"
   ]
  },
  {
   "cell_type": "code",
   "execution_count": 64,
   "id": "36eb568d-7a03-4d3c-989c-6f89edd82324",
   "metadata": {},
   "outputs": [
    {
     "name": "stdout",
     "output_type": "stream",
     "text": [
      "error rate if 0.30%\n"
     ]
    }
   ],
   "source": [
    "print('error rate if %0.2f%%' % 0.3) #소수점 자리수 얼마나 print할 지 정할 수 있음"
   ]
  },
  {
   "cell_type": "code",
   "execution_count": null,
   "id": "441c6bef-2005-40da-b7da-afb0d5797a18",
   "metadata": {},
   "outputs": [],
   "source": []
  }
 ],
 "metadata": {
  "kernelspec": {
   "display_name": "Python 3 (ipykernel)",
   "language": "python",
   "name": "python3"
  },
  "language_info": {
   "codemirror_mode": {
    "name": "ipython",
    "version": 3
   },
   "file_extension": ".py",
   "mimetype": "text/x-python",
   "name": "python",
   "nbconvert_exporter": "python",
   "pygments_lexer": "ipython3",
   "version": "3.11.5"
  }
 },
 "nbformat": 4,
 "nbformat_minor": 5
}
