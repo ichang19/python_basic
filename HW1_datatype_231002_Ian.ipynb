{
 "cells": [
  {
   "cell_type": "markdown",
   "metadata": {
    "id": "RI8LKwpXwFly"
   },
   "source": [
    "**문제1) 연산기호를 이용해 수식으로 표현해보고 그 결과를 확인하여라.**\n",
    "\n",
    "* int 25와 int 12를 더하시오.\n",
    "* int 13에서 int 19를 빼시오.\n",
    "* int 92과 float 8.0 을 곱하시오.\n",
    "* float 81.5을 float 2.0으로 나누시오.\n",
    "* int 7를 int 5로 나눴을 때, quotient를 구하시오.\n",
    "* int 100을 int 7로 나눈 나머지를 구하시오.\n",
    "* int 3의 세제곱을 구하시오."
   ]
  },
  {
   "cell_type": "code",
   "execution_count": 1,
   "metadata": {
    "id": "LKxVkEj_PMvZ"
   },
   "outputs": [
    {
     "data": {
      "text/plain": [
       "37"
      ]
     },
     "execution_count": 1,
     "metadata": {},
     "output_type": "execute_result"
    }
   ],
   "source": [
    "25+12"
   ]
  },
  {
   "cell_type": "code",
   "execution_count": 2,
   "metadata": {},
   "outputs": [
    {
     "data": {
      "text/plain": [
       "-6"
      ]
     },
     "execution_count": 2,
     "metadata": {},
     "output_type": "execute_result"
    }
   ],
   "source": [
    "13-19"
   ]
  },
  {
   "cell_type": "code",
   "execution_count": 3,
   "metadata": {},
   "outputs": [
    {
     "data": {
      "text/plain": [
       "736.0"
      ]
     },
     "execution_count": 3,
     "metadata": {},
     "output_type": "execute_result"
    }
   ],
   "source": [
    "92*8.0"
   ]
  },
  {
   "cell_type": "code",
   "execution_count": 4,
   "metadata": {},
   "outputs": [
    {
     "data": {
      "text/plain": [
       "40.75"
      ]
     },
     "execution_count": 4,
     "metadata": {},
     "output_type": "execute_result"
    }
   ],
   "source": [
    "81.5/2.0"
   ]
  },
  {
   "cell_type": "code",
   "execution_count": 5,
   "metadata": {},
   "outputs": [
    {
     "data": {
      "text/plain": [
       "1"
      ]
     },
     "execution_count": 5,
     "metadata": {},
     "output_type": "execute_result"
    }
   ],
   "source": [
    "7//5"
   ]
  },
  {
   "cell_type": "code",
   "execution_count": 6,
   "metadata": {},
   "outputs": [
    {
     "data": {
      "text/plain": [
       "2"
      ]
     },
     "execution_count": 6,
     "metadata": {},
     "output_type": "execute_result"
    }
   ],
   "source": [
    "100%7"
   ]
  },
  {
   "cell_type": "code",
   "execution_count": 7,
   "metadata": {},
   "outputs": [
    {
     "data": {
      "text/plain": [
       "27"
      ]
     },
     "execution_count": 7,
     "metadata": {},
     "output_type": "execute_result"
    }
   ],
   "source": [
    "3**3"
   ]
  },
  {
   "cell_type": "markdown",
   "metadata": {
    "id": "44dzH2aeHN3T"
   },
   "source": [
    "**문제2) 다음 각각의 자료형을 말하고, 코드를 작성하여 결과를 확인하여라.**\n",
    "\n",
    "* `3`\n",
    "* `3.0`\n",
    "* `'3'`\n",
    "* `'3.0'`\n",
    "* `\"3\"`\n",
    "* `\"3.0\"`"
   ]
  },
  {
   "cell_type": "code",
   "execution_count": 8,
   "metadata": {},
   "outputs": [
    {
     "data": {
      "text/plain": [
       "int"
      ]
     },
     "execution_count": 8,
     "metadata": {},
     "output_type": "execute_result"
    }
   ],
   "source": [
    "#int\n",
    "type(3)"
   ]
  },
  {
   "cell_type": "code",
   "execution_count": 9,
   "metadata": {},
   "outputs": [
    {
     "data": {
      "text/plain": [
       "float"
      ]
     },
     "execution_count": 9,
     "metadata": {},
     "output_type": "execute_result"
    }
   ],
   "source": [
    "#float\n",
    "type(3.0)"
   ]
  },
  {
   "cell_type": "code",
   "execution_count": 10,
   "metadata": {},
   "outputs": [
    {
     "data": {
      "text/plain": [
       "str"
      ]
     },
     "execution_count": 10,
     "metadata": {},
     "output_type": "execute_result"
    }
   ],
   "source": [
    "#str\n",
    "type('3')"
   ]
  },
  {
   "cell_type": "code",
   "execution_count": 11,
   "metadata": {},
   "outputs": [
    {
     "data": {
      "text/plain": [
       "str"
      ]
     },
     "execution_count": 11,
     "metadata": {},
     "output_type": "execute_result"
    }
   ],
   "source": [
    "#str\n",
    "type('3.0')"
   ]
  },
  {
   "cell_type": "code",
   "execution_count": 13,
   "metadata": {},
   "outputs": [
    {
     "data": {
      "text/plain": [
       "str"
      ]
     },
     "execution_count": 13,
     "metadata": {},
     "output_type": "execute_result"
    }
   ],
   "source": [
    "#str\n",
    "type(\"3\")"
   ]
  },
  {
   "cell_type": "code",
   "execution_count": 14,
   "metadata": {},
   "outputs": [
    {
     "data": {
      "text/plain": [
       "str"
      ]
     },
     "execution_count": 14,
     "metadata": {},
     "output_type": "execute_result"
    }
   ],
   "source": [
    "#str\n",
    "type(\"3.0\")"
   ]
  },
  {
   "cell_type": "markdown",
   "metadata": {
    "id": "pukVZ9ft_d8b"
   },
   "source": [
    "**문제3) 우유 가격은 820원이고, 아이스크림 가격은 1500원이다. 아이스크림은 3개이상 구입시 5%를 할인해준다. 우유 2개와 아이스크림 3개를 구입할 때 지불해야 하는 가격을 변수를 활용하여 코드로 작성하여라.**"
   ]
  },
  {
   "cell_type": "code",
   "execution_count": 15,
   "metadata": {},
   "outputs": [
    {
     "data": {
      "text/plain": [
       "5337.0"
      ]
     },
     "execution_count": 15,
     "metadata": {},
     "output_type": "execute_result"
    }
   ],
   "source": [
    "m = 820\n",
    "i = 1500\n",
    "2*i + (3*m*0.95)"
   ]
  },
  {
   "cell_type": "markdown",
   "metadata": {
    "id": "kneGP1FnA2mt"
   },
   "source": [
    "**문제4) 1㎡는 0.3025평이다. 84㎡는 몇 평인가? 반대로 30평은 몇 ㎡인가?**"
   ]
  },
  {
   "cell_type": "code",
   "execution_count": 49,
   "metadata": {},
   "outputs": [
    {
     "name": "stdout",
     "output_type": "stream",
     "text": [
      "25.41\n",
      "99.17355371900827\n"
     ]
    }
   ],
   "source": [
    "m = 0.3025\n",
    "a = m*84\n",
    "b = 30/0.3025\n",
    "print(a)\n",
    "print(b)"
   ]
  },
  {
   "cell_type": "markdown",
   "metadata": {
    "id": "QdWxtc4vForM"
   },
   "source": [
    "**문제5) 문자열 연산을 이용하여 다음의 실행결과가 나오도록 코드를 작성하여라**\n",
    "\n",
    "(1)\n",
    "\n",
    "```\n",
    "안녕하세요. 안녕하세요. 안녕하세요.\n",
    "```\n",
    "\n",
    "(2)\n",
    "```\n",
    "안녕하세요.\n",
    "안녕하세요.\n",
    "안녕하세요.\n",
    "안녕하세요.\n",
    "안녕하세요.\n",
    "```"
   ]
  },
  {
   "cell_type": "code",
   "execution_count": 51,
   "metadata": {},
   "outputs": [
    {
     "name": "stdout",
     "output_type": "stream",
     "text": [
      "안녕하세요. 안녕하세요. 안녕하세요. \n"
     ]
    }
   ],
   "source": [
    "print(\"안녕하세요. \" *3)"
   ]
  },
  {
   "cell_type": "code",
   "execution_count": 54,
   "metadata": {},
   "outputs": [
    {
     "name": "stdout",
     "output_type": "stream",
     "text": [
      "안녕하세요.\n",
      "안녕하세요.\n",
      "안녕하세요.\n",
      "안녕하세요.\n",
      "안녕하세요.\n",
      "\n"
     ]
    }
   ],
   "source": [
    "print(\"안녕하세요.\\n\" *5)"
   ]
  },
  {
   "cell_type": "markdown",
   "metadata": {
    "id": "Nl6v2s4cGZBO"
   },
   "source": [
    "**문제6) `dogs`와 `cats` 두 개의 변수가 다음과 같이 선언되었다.**  \n",
    "`dogs, cats = '12', '7'`  \n",
    "\n",
    "(1) `dogs`와 `cats` 변수에 할당된 값의 자료형을 확인하여라.  \n",
    "(2) 강아지가 고양이보다 몇 마리 더 많은지 확인하는 코드를 작성하여라. 출력된 결과는 아래와 같은 형식이다.\n",
    "> 강아지가 고양이보다 n 마리 더 많다."
   ]
  },
  {
   "cell_type": "code",
   "execution_count": 58,
   "metadata": {},
   "outputs": [
    {
     "name": "stdout",
     "output_type": "stream",
     "text": [
      "<class 'str'>\n",
      "<class 'str'>\n"
     ]
    }
   ],
   "source": [
    "dogs = '12'\n",
    "cats = '7'\n",
    "print(type(dogs))\n",
    "print(type(cats))"
   ]
  },
  {
   "cell_type": "code",
   "execution_count": 64,
   "metadata": {},
   "outputs": [
    {
     "name": "stdout",
     "output_type": "stream",
     "text": [
      "강아지가 고양이보다 5마리 더 많다\n"
     ]
    }
   ],
   "source": [
    "n = int(dogs) - int(cats)\n",
    "print(\"강아지가 고양이보다 %d마리 더 많다\" %n)"
   ]
  },
  {
   "cell_type": "markdown",
   "metadata": {
    "id": "pqHu87CyL1zr"
   },
   "source": [
    "**문제7) 다음 문제에 답하여라.**   \n",
    "\n",
    "`colors = 'red blue yellow'`  \n",
    "\n",
    "1) `colors`에서 `b`를 추출하는 코드를 작성하라."
   ]
  },
  {
   "cell_type": "markdown",
   "metadata": {
    "id": "hDBO0Lu2NzWK"
   },
   "source": [
    "2) `colors`에서 `low`를 추출하는 코드를 작성하라."
   ]
  },
  {
   "cell_type": "markdown",
   "metadata": {
    "id": "aNPSnSfQOeOb"
   },
   "source": [
    "3) `colors`에서 `due`를 추출하는 코드를 작성하라."
   ]
  },
  {
   "cell_type": "code",
   "execution_count": 65,
   "metadata": {},
   "outputs": [
    {
     "data": {
      "text/plain": [
       "'b'"
      ]
     },
     "execution_count": 65,
     "metadata": {},
     "output_type": "execute_result"
    }
   ],
   "source": [
    "colors = 'red blue yellow'\n",
    "colors[4]"
   ]
  },
  {
   "cell_type": "code",
   "execution_count": 69,
   "metadata": {},
   "outputs": [
    {
     "data": {
      "text/plain": [
       "'low'"
      ]
     },
     "execution_count": 69,
     "metadata": {},
     "output_type": "execute_result"
    }
   ],
   "source": [
    "colors[12:]"
   ]
  },
  {
   "cell_type": "code",
   "execution_count": 70,
   "metadata": {},
   "outputs": [
    {
     "data": {
      "text/plain": [
       "'due'"
      ]
     },
     "execution_count": 70,
     "metadata": {},
     "output_type": "execute_result"
    }
   ],
   "source": [
    "colors[2] + colors[6] + colors[1]"
   ]
  },
  {
   "cell_type": "markdown",
   "metadata": {
    "id": "1pCz7In9K3WS"
   },
   "source": [
    "**문제8) 다음 문제에 답하여라.**  \n",
    "\n",
    "1) `'12345' * 3` 한 것을 변수 `nums`에 할당하라. "
   ]
  },
  {
   "cell_type": "markdown",
   "metadata": {
    "id": "utM03-eNLZSI"
   },
   "source": [
    "2) `nums`에서 `111`을 추출하는 코드를 작성하라."
   ]
  },
  {
   "cell_type": "markdown",
   "metadata": {
    "id": "lG6zaLWrLjod"
   },
   "source": [
    "3) `nums`에서 `555`을 추출하는 코드를 작성하라."
   ]
  },
  {
   "cell_type": "code",
   "execution_count": 73,
   "metadata": {},
   "outputs": [
    {
     "data": {
      "text/plain": [
       "'123451234512345'"
      ]
     },
     "execution_count": 73,
     "metadata": {},
     "output_type": "execute_result"
    }
   ],
   "source": [
    "nums = '12345'*3\n",
    "nums"
   ]
  },
  {
   "cell_type": "code",
   "execution_count": 74,
   "metadata": {},
   "outputs": [
    {
     "data": {
      "text/plain": [
       "'111'"
      ]
     },
     "execution_count": 74,
     "metadata": {},
     "output_type": "execute_result"
    }
   ],
   "source": [
    "nums[0]*3"
   ]
  },
  {
   "cell_type": "code",
   "execution_count": 76,
   "metadata": {},
   "outputs": [
    {
     "data": {
      "text/plain": [
       "'555'"
      ]
     },
     "execution_count": 76,
     "metadata": {},
     "output_type": "execute_result"
    }
   ],
   "source": [
    "nums[-1]*3"
   ]
  }
 ],
 "metadata": {
  "colab": {
   "authorship_tag": "ABX9TyOwUoNrjVic+Ydi7Dz1u7q2",
   "provenance": []
  },
  "kernelspec": {
   "display_name": "Python 3 (ipykernel)",
   "language": "python",
   "name": "python3"
  },
  "language_info": {
   "codemirror_mode": {
    "name": "ipython",
    "version": 3
   },
   "file_extension": ".py",
   "mimetype": "text/x-python",
   "name": "python",
   "nbconvert_exporter": "python",
   "pygments_lexer": "ipython3",
   "version": "3.11.5"
  }
 },
 "nbformat": 4,
 "nbformat_minor": 4
}
