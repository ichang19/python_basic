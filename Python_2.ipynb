{
 "cells": [
  {
   "cell_type": "markdown",
   "id": "f9d6682d-17bb-44bc-beb8-8617fc70a739",
   "metadata": {},
   "source": [
    "# 1. String formatting"
   ]
  },
  {
   "cell_type": "code",
   "execution_count": 1,
   "id": "ec1135e9-3a57-4b1f-8e39-ceff914d81a7",
   "metadata": {},
   "outputs": [
    {
     "name": "stdout",
     "output_type": "stream",
     "text": [
      "apple is red. banana is yellow\n"
     ]
    }
   ],
   "source": [
    "print('apple is {0}. banana is {1}'.format('red','yellow'))"
   ]
  },
  {
   "cell_type": "code",
   "execution_count": 2,
   "id": "14049339-1fb5-4ad4-812b-cdbeb3df28b3",
   "metadata": {},
   "outputs": [
    {
     "name": "stdout",
     "output_type": "stream",
     "text": [
      "apple is $5. banana is $3\n"
     ]
    }
   ],
   "source": [
    "print('apple is ${0}. banana is ${1}'.format('5','3'))"
   ]
  },
  {
   "cell_type": "code",
   "execution_count": 7,
   "id": "10f43deb-4b96-4ae2-abdf-b7d4c9c8fc54",
   "metadata": {},
   "outputs": [
    {
     "name": "stdout",
     "output_type": "stream",
     "text": [
      "I ate 2 apples. I paid $3.65. It was delicious.\n"
     ]
    }
   ],
   "source": [
    "#변수 바로 넣기\n",
    "howmuch = 2\n",
    "money = 3.65\n",
    "taste = 'delicious'\n",
    "print(f'I ate {howmuch} apples. I paid ${money}. It was {taste}.')"
   ]
  },
  {
   "cell_type": "markdown",
   "id": "aae163f5-12fe-4ceb-bf1a-9a9de8d3fcab",
   "metadata": {},
   "source": [
    "# 2. Set variable name\n",
    "1. 글자로 시작, 숫자가 맨앞에오면 안됨\n",
    "2. 띄어쓰기 안됨. underscore로 연결\n",
    "3. string이 variable 되면 안됨"
   ]
  },
  {
   "cell_type": "markdown",
   "id": "502213ea-84ba-4ae6-8ffc-10e2b42d8edb",
   "metadata": {},
   "source": [
    "# 3. List \n",
    "[사이 쉼표로 연결된 element]"
   ]
  },
  {
   "cell_type": "code",
   "execution_count": 9,
   "id": "76b1a0f7-3b00-45c7-9e4d-5b91d136a00d",
   "metadata": {},
   "outputs": [
    {
     "name": "stdout",
     "output_type": "stream",
     "text": [
      "<class 'list'>\n",
      "<class 'list'>\n",
      "<class 'list'>\n",
      "<class 'list'>\n",
      "<class 'list'>\n"
     ]
    }
   ],
   "source": [
    "a = [1,2,3,4,5]\n",
    "b = ['cat','dog','rabbit']\n",
    "c = [1, 'cat', 3, 'dog']\n",
    "d = []\n",
    "e = [1,2,3,4,['cat', 'dog']]\n",
    "print(type(a))\n",
    "print(type(b))\n",
    "print(type(c))\n",
    "print(type(d))\n",
    "print(type(e))"
   ]
  },
  {
   "cell_type": "markdown",
   "id": "87b8ec7b-bdd1-4759-814f-9f0040cdfe31",
   "metadata": {},
   "source": [
    "# 3-1 List Indexing"
   ]
  },
  {
   "cell_type": "code",
   "execution_count": null,
   "id": "21ebc309-c311-4436-ab37-3202fe810f4f",
   "metadata": {},
   "outputs": [],
   "source": []
  },
  {
   "cell_type": "markdown",
   "id": "c4ded7cd-f5a5-4f18-a868-529cb3c4cf9c",
   "metadata": {},
   "source": [
    "# 3-2 List 연산\n",
    "[list는 list들 끼리만 연산]"
   ]
  },
  {
   "cell_type": "code",
   "execution_count": 10,
   "id": "9a118f7e-d4c6-4f57-9789-d856b77624a2",
   "metadata": {},
   "outputs": [
    {
     "data": {
      "text/plain": [
       "[1, 2, 3, 4, 5, 5, 6, 7]"
      ]
     },
     "execution_count": 10,
     "metadata": {},
     "output_type": "execute_result"
    }
   ],
   "source": [
    "g = [5,6,7]\n",
    "a + g"
   ]
  },
  {
   "cell_type": "code",
   "execution_count": 15,
   "id": "21b924ae-113a-42ca-a9ea-e8bf14a865c6",
   "metadata": {},
   "outputs": [
    {
     "data": {
      "text/plain": [
       "[5, 6, 7, 5, 6, 7]"
      ]
     },
     "execution_count": 15,
     "metadata": {},
     "output_type": "execute_result"
    }
   ],
   "source": [
    "g*2"
   ]
  },
  {
   "cell_type": "markdown",
   "id": "6116d856-4471-4675-ab58-490e072c4b72",
   "metadata": {},
   "source": [
    "# 3-3 List 원소 더하는 method"
   ]
  },
  {
   "cell_type": "code",
   "execution_count": 11,
   "id": "64874529-02e9-4c3d-93ac-b84ad16d2ae6",
   "metadata": {},
   "outputs": [],
   "source": [
    "e.append('bird')"
   ]
  },
  {
   "cell_type": "code",
   "execution_count": 12,
   "id": "29d5fc3b-50d6-4463-9be3-1de7aa1ea853",
   "metadata": {},
   "outputs": [
    {
     "data": {
      "text/plain": [
       "[1, 2, 3, 4, ['cat', 'dog'], 'bird']"
      ]
     },
     "execution_count": 12,
     "metadata": {},
     "output_type": "execute_result"
    }
   ],
   "source": [
    "e"
   ]
  },
  {
   "cell_type": "code",
   "execution_count": 13,
   "id": "7a092a8e-1b3b-4cc2-b2e3-3b2967bbf815",
   "metadata": {},
   "outputs": [
    {
     "data": {
      "text/plain": [
       "[1, 2, 3, 4, ['cat', 'dog'], 'bird', ['flower', 'tree']]"
      ]
     },
     "execution_count": 13,
     "metadata": {},
     "output_type": "execute_result"
    }
   ],
   "source": [
    "e.append(['flower','tree'])\n",
    "e"
   ]
  },
  {
   "cell_type": "code",
   "execution_count": 17,
   "id": "2522babd-262b-4581-9f8f-4f2f46543ab0",
   "metadata": {},
   "outputs": [
    {
     "data": {
      "text/plain": [
       "[1, 2, 3, 4, ['cat', 'dog'], 'bird', ['flower', 'tree'], [5, 6, 7], [5, 6, 7]]"
      ]
     },
     "execution_count": 17,
     "metadata": {},
     "output_type": "execute_result"
    }
   ],
   "source": [
    "e.append(g)\n",
    "e"
   ]
  },
  {
   "cell_type": "code",
   "execution_count": 18,
   "id": "bfbfcd66-1582-49f2-838d-e116209a5e00",
   "metadata": {},
   "outputs": [
    {
     "data": {
      "text/plain": [
       "[5, 6, 7, 'rabbit']"
      ]
     },
     "execution_count": 18,
     "metadata": {},
     "output_type": "execute_result"
    }
   ],
   "source": [
    "g+['rabbit']"
   ]
  },
  {
   "cell_type": "code",
   "execution_count": null,
   "id": "c3546c3a-4253-4858-8d90-c4b3c029bbf3",
   "metadata": {},
   "outputs": [],
   "source": []
  }
 ],
 "metadata": {
  "kernelspec": {
   "display_name": "Python 3 (ipykernel)",
   "language": "python",
   "name": "python3"
  },
  "language_info": {
   "codemirror_mode": {
    "name": "ipython",
    "version": 3
   },
   "file_extension": ".py",
   "mimetype": "text/x-python",
   "name": "python",
   "nbconvert_exporter": "python",
   "pygments_lexer": "ipython3",
   "version": "3.11.5"
  }
 },
 "nbformat": 4,
 "nbformat_minor": 5
}
